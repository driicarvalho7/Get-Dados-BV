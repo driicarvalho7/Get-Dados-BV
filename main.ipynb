{
 "cells": [
  {
   "cell_type": "code",
   "execution_count": 120,
   "metadata": {},
   "outputs": [],
   "source": [
    "#IMPORTANDO AS BIBLIOTECAS QUE VAMOS UTILIZAR \n",
    "\n",
    "import pandas as pd\n",
    "from pandas_datareader import data as pdr\n",
    "import matplotlib.pyplot as plt\n",
    "import matplotlib.ticker as mtick"
   ]
  },
  {
   "cell_type": "code",
   "execution_count": null,
   "metadata": {},
   "outputs": [],
   "source": [
    "#UTILIZANDO O PANDAS DATA READER PARA PEGAR DADOS DO YAHOO, REFERENTES AS AÇÕES DOS BANCOS E EXIBE O RESULTADO\n",
    "\n",
    "dados_bancarios = pdr.get_data_yahoo(['ITUB4.SA', 'BBAS3.SA', 'SANB4.SA', 'BBDC4.SA', '^BVSP'], \n",
    "                                        start = \"2010-01-01\", end = \"2022-10-01\")['Adj Close']\n",
    "\n",
    "dados_bancarios"
   ]
  },
  {
   "cell_type": "code",
   "execution_count": null,
   "metadata": {},
   "outputs": [],
   "source": [
    "#COMO FILTAR O PRINTF COM COLUNAS DAS AÇÕES\n",
    "\n",
    "dados_bancarios[['ITUB4.SA', 'BBAS3.SA']]"
   ]
  },
  {
   "cell_type": "code",
   "execution_count": null,
   "metadata": {},
   "outputs": [],
   "source": [
    "#FILTRANDO OS DADOS DA VARIAVEL, UTILIZANDO A COLUNA DATA COMO INDEX E EXIBE RESULTADO\n",
    "\n",
    "dados_bancarios_apartir_2015 = dados_bancarios[dados_bancarios.index > \"2015-01-01\"]\n",
    "dados_bancarios_apartir_2015"
   ]
  },
  {
   "cell_type": "code",
   "execution_count": null,
   "metadata": {},
   "outputs": [],
   "source": [
    "#UTILIZANDO O PANDAS PARA LER DADOS DO ARQUIVO EXCEL, DANDO UMA COLUNA DE REFERÊNCIA E EXIBE RESULTADO\n",
    "\n",
    "lucro_bancos = pd.read_excel('C:/Users/adria/Desktop/Estudos/Python MF/lucros_bancos.xlsx', index_col = \"data\")\n",
    "lucro_bancos"
   ]
  },
  {
   "cell_type": "code",
   "execution_count": null,
   "metadata": {},
   "outputs": [],
   "source": [
    "#ATRIBUINDO NOMES PARA FACILITAR MANIPULAÇÃO\n",
    "\n",
    "itau = dados_bancarios['ITUB4.SA']\n",
    "banco_brasil = dados_bancarios['BBAS3.SA']\n",
    "santander = dados_bancarios['SANB4.SA']\n",
    "bradesco = dados_bancarios['BBDC4.SA']\n",
    "indice_ibovespa = dados_bancarios['^BVSP']"
   ]
  },
  {
   "cell_type": "code",
   "execution_count": null,
   "metadata": {},
   "outputs": [],
   "source": [
    "#CRIANDO FUNÇÃO QUE MOSTRA O RETORNO DAS AÇÕES (O VETOR -1 INDICA O VALOR DA ULTIMA POSIÇÃO)\n",
    "#ESSE CALCULO É FEITO DA SEGUINTE FORMA: (VALOR FINAL / VALOR INICIAL) - 1\n",
    "\n",
    "def retorno(item):\n",
    "    retorno = (item[-1]/item[0]) - 1\n",
    "\n",
    "    return retorno"
   ]
  },
  {
   "cell_type": "code",
   "execution_count": null,
   "metadata": {},
   "outputs": [],
   "source": [
    "#ATRIBUI A FUNÇÃO DE RETORNO A VARIAVEL, ESPECIFICA O ITEM E EXIBE RESULTADO\n",
    "\n",
    "retorno_itau = retorno(item = itau)\n",
    "retorno_banco_brasil = retorno(item = banco_brasil)\n",
    "retorno_santander = retorno(item = santander)\n",
    "retorno_bradesco = retorno(item = bradesco)\n",
    "\n",
    "retorno_itau, retorno_banco_brasil, retorno_santander, retorno_bradesco "
   ]
  },
  {
   "cell_type": "code",
   "execution_count": null,
   "metadata": {},
   "outputs": [],
   "source": [
    "#ATRIBUI A FUNÇÃO DE RETORNO A VARIAVEL, ESPECIFICA O ITEM E EXIBE RESULTADO\n",
    "\n",
    "retorno_indice = retorno(item = indice_ibovespa)\n",
    "retorno_indice"
   ]
  },
  {
   "cell_type": "code",
   "execution_count": null,
   "metadata": {},
   "outputs": [],
   "source": [
    "#CRIANDO DATA FRAME (MATRIZ) PARA ORGANIZAR OS DADOS VIZUALMENTE\n",
    "\n",
    "df_retornos = pd.DataFrame(data = {'retornos': [retorno_itau, retorno_banco_brasil, \n",
    "                                    retorno_santander, retorno_bradesco]}, \n",
    "                                    index = [\"itau\", \"banco do brasil\", \"santander\", \"bradesco\"])\n"
   ]
  },
  {
   "cell_type": "code",
   "execution_count": null,
   "metadata": {},
   "outputs": [],
   "source": [
    "#ORGANIZANDO OS VALORES, DEIXANDO EM VALORES DECIMAIS\n",
    "\n",
    "df_retornos['retornos'] = df_retornos['retornos'] * 100"
   ]
  },
  {
   "cell_type": "code",
   "execution_count": null,
   "metadata": {},
   "outputs": [],
   "source": [
    "#EXIBINDO VALORES EM ORDEM DE RETORNO\n",
    "\n",
    "df_retornos = df_retornos.sort_values(by = \"retornos\", ascending = False)"
   ]
  },
  {
   "cell_type": "code",
   "execution_count": null,
   "metadata": {},
   "outputs": [],
   "source": [
    "df_retornos"
   ]
  },
  {
   "cell_type": "code",
   "execution_count": null,
   "metadata": {},
   "outputs": [],
   "source": [
    "#CRIANDO O GRÁFICO DE RETORNO DAS AÇÕES A PARTIR DA BIBLIOTECA MATPLOTLIB\n",
    "\n",
    "fig, ax = plt.subplots()\n",
    "\n",
    "#DEFINDO EIXOS X E Y\n",
    "ax.bar(df_retornos.index , df_retornos['retornos'])\n",
    "#COLOCANDO EIXO Y EM %\n",
    "ax.yaxis.set_major_formatter(mtick.PercentFormatter())\n",
    "#TROCANDO FONTE DO EIXO X\n",
    "plt.xticks(fontsize = 10)\n",
    "#EXIBIT GRÁFICO\n",
    "plt.show()"
   ]
  },
  {
   "cell_type": "code",
   "execution_count": null,
   "metadata": {},
   "outputs": [],
   "source": [
    "#CRIANDO VARIÁVEL QUE EXIBE O DELTA DOS LUCROS ENTRE BANCOS, E ORGANIZA OS DADOS\n",
    "\n",
    "delta_lucro = (lucro_bancos.iloc[-1] / lucro_bancos.iloc[0]) - 1\n",
    "\n",
    "delta_lucro = delta_lucro * 100\n",
    "\n",
    "delta_lucro = delta_lucro.sort_values(ascending = False)"
   ]
  },
  {
   "cell_type": "code",
   "execution_count": null,
   "metadata": {},
   "outputs": [],
   "source": [
    "delta_lucro"
   ]
  },
  {
   "cell_type": "code",
   "execution_count": null,
   "metadata": {},
   "outputs": [],
   "source": [
    "#CRIANDO O GRÁFICO DE LUCRO A PARTIR DA BIBLIOTECA MATPLOTLIB\n",
    "\n",
    "fig, ax = plt.subplots()\n",
    "\n",
    "#DEFINDO EIXOS X E Y\n",
    "ax.bar(delta_lucro.index , delta_lucro)\n",
    "#COLOCANDO EIXO Y EM %\n",
    "ax.yaxis.set_major_formatter(mtick.PercentFormatter())\n",
    "#TROCANDO FONTE DO EIXO X\n",
    "plt.xticks(fontsize = 10)\n",
    "#EXIBIT GRÁFICO\n",
    "plt.show()"
   ]
  },
  {
   "cell_type": "code",
   "execution_count": null,
   "metadata": {},
   "outputs": [],
   "source": [
    "#CRIANDO UMA FUNÇÃÕ QUE RECEBE UMA AÇÃO E O PERÍODO A SER EXIBIDO, E RETORNA SÓ OS VALORES DO PERÍODO SELECIONADO\n",
    "\n",
    "def resample_periodo(acao, periodo):\n",
    "\n",
    "    #CRIA VARIAVEL E PEGA O PERIDO ESPECIFICADO \"Y\" \"M\"...\n",
    "    acao_novo_periodo = acao.resample(f\"{periodo}\").last()\n",
    "    #TROCA OS VALORES PARA PERCENTUAL\n",
    "    acao_novo_periodo = acao_novo_periodo.pct_change()\n",
    "    #RETIRA OS VALORES NULOS\n",
    "    acao_novo_periodo = acao_novo_periodo.dropna()\n",
    "\n",
    "    return acao_novo_periodo"
   ]
  },
  {
   "cell_type": "code",
   "execution_count": null,
   "metadata": {},
   "outputs": [],
   "source": [
    "#TENTATIVA DE CRIAR IF PARA SELECIONAR PERÍODO\n",
    "\n",
    "def select_dado_periodo(acao, periodo):\n",
    "    \n",
    "    var_acao = acao\n",
    "    \n",
    "    if(periodo == \"Y\"):\n",
    "        var_periodo = \"ano\"\n",
    "    elif(periodo == \"M\"):\n",
    "        var_periodo = \"mes\"\n",
    "    else:\n",
    "        var_periodo = \"sem\"\n",
    "\n",
    "    var_return = f\"{var_acao}_{var_periodo}_{var_periodo}\"\n",
    "\n",
    "    return var_return"
   ]
  },
  {
   "cell_type": "code",
   "execution_count": null,
   "metadata": {},
   "outputs": [],
   "source": [
    "#CRIANDO VAR QUE ARMAZENA OS RESULTADOS DO PERÍODO SELECIONADO\n",
    "\n",
    "itau_mes_mes = resample_periodo(itau, \"M\")\n",
    "ibov_ano_ano = resample_periodo(indice_ibovespa, \"Y\")"
   ]
  },
  {
   "cell_type": "code",
   "execution_count": null,
   "metadata": {},
   "outputs": [],
   "source": [
    "#EXIBE GRÁFICO DOS RESULTADOS DO PERÍODO SELECIONADO\n",
    "\n",
    "plt.plot(itau_mes_mes)\n",
    "\n",
    "plt.show()"
   ]
  },
  {
   "cell_type": "code",
   "execution_count": null,
   "metadata": {},
   "outputs": [],
   "source": [
    "#FUNÇÃO QUE FAZ A COMPARAÇÃO ENTRE AÇÕES/INDICE E EXIBE O GRÁFICO DESSA VARIAÇÃO\n",
    "\n",
    "def compara_perform(long, short, periodo):\n",
    "\n",
    "    delta_long = resample_periodo(long, periodo)\n",
    "    delta_short = resample_periodo(short, periodo)\n",
    "\n",
    "    resperform = delta_long - delta_short\n",
    "\n",
    "    plt.plot(resperform)"
   ]
  },
  {
   "cell_type": "code",
   "execution_count": null,
   "metadata": {},
   "outputs": [],
   "source": [
    "compara_perform(banco_brasil, itau, \"Y\")"
   ]
  },
  {
   "cell_type": "code",
   "execution_count": null,
   "metadata": {},
   "outputs": [],
   "source": [
    "compara_perform(itau, santander, \"Y\")"
   ]
  }
 ],
 "metadata": {
  "kernelspec": {
   "display_name": "Python 3.9.12 ('base')",
   "language": "python",
   "name": "python3"
  },
  "language_info": {
   "codemirror_mode": {
    "name": "ipython",
    "version": 3
   },
   "file_extension": ".py",
   "mimetype": "text/x-python",
   "name": "python",
   "nbconvert_exporter": "python",
   "pygments_lexer": "ipython3",
   "version": "3.9.12"
  },
  "orig_nbformat": 4,
  "vscode": {
   "interpreter": {
    "hash": "6f959b286b5f8c834869aaf1d757196b68a1cecf6e91cbea853ac64cd319e97b"
   }
  }
 },
 "nbformat": 4,
 "nbformat_minor": 2
}
